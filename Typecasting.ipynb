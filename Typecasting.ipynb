{
  "nbformat": 4,
  "nbformat_minor": 0,
  "metadata": {
    "colab": {
      "provenance": [],
      "authorship_tag": "ABX9TyPPwexNb6AMijEqSXgEhjWC",
      "include_colab_link": true
    },
    "kernelspec": {
      "name": "python3",
      "display_name": "Python 3"
    },
    "language_info": {
      "name": "python"
    }
  },
  "cells": [
    {
      "cell_type": "markdown",
      "metadata": {
        "id": "view-in-github",
        "colab_type": "text"
      },
      "source": [
        "<a href=\"https://colab.research.google.com/github/muhammad-farhan67/Python-for-Beginners/blob/main/Typecasting.ipynb\" target=\"_parent\"><img src=\"https://colab.research.google.com/assets/colab-badge.svg\" alt=\"Open In Colab\"/></a>"
      ]
    },
    {
      "cell_type": "code",
      "execution_count": 9,
      "metadata": {
        "colab": {
          "base_uri": "https://localhost:8080/"
        },
        "id": "VKeGXeg6PxVn",
        "outputId": "56b67dfd-f467-422c-c768-1682502f9b14"
      },
      "outputs": [
        {
          "output_type": "stream",
          "name": "stdout",
          "text": [
            "23.1\n",
            "<class 'float'>\n",
            "23\n",
            "<class 'int'>\n"
          ]
        }
      ],
      "source": [
        "from os import truncate\n",
        "# we can also change the datatypes of a value it help us when we take input from user which is in string and we sometimes have to apply mathematical\n",
        "# operations on that values\n",
        "x = 23.1\n",
        "print (x)\n",
        "print (type(x))\n",
        "x = int (x)\n",
        "print (x)\n",
        "print (type(x))\n",
        "# it will change the datatype from float to integer and truncates the decimal part\n"
      ]
    },
    {
      "cell_type": "code",
      "source": [
        "x = 245\n",
        "print (x)\n",
        "print (type(x))\n",
        "x = float (x)\n",
        "print (x)\n",
        "print (type(x))\n",
        "# it will change the datatype from integer to float and add 0 in the decimal part"
      ],
      "metadata": {
        "colab": {
          "base_uri": "https://localhost:8080/"
        },
        "id": "o4U3404CTFLR",
        "outputId": "6ad6d323-1615-4086-88b2-31d382a161bf"
      },
      "execution_count": 7,
      "outputs": [
        {
          "output_type": "stream",
          "name": "stdout",
          "text": [
            "245\n",
            "<class 'int'>\n",
            "245.0\n",
            "<class 'float'>\n"
          ]
        }
      ]
    },
    {
      "cell_type": "code",
      "source": [
        "x = 345\n",
        "print (x)\n",
        "print (type(x))\n",
        "x = str (x)\n",
        "print (x)\n",
        "print (type(x))\n",
        "# it will change the datatype from integer to string"
      ],
      "metadata": {
        "colab": {
          "base_uri": "https://localhost:8080/"
        },
        "id": "mhEln4AGT2Sr",
        "outputId": "97c846b8-d42a-4c12-cfb5-bba750ad94d4"
      },
      "execution_count": 8,
      "outputs": [
        {
          "output_type": "stream",
          "name": "stdout",
          "text": [
            "345\n",
            "<class 'int'>\n",
            "345\n",
            "<class 'str'>\n"
          ]
        }
      ]
    },
    {
      "cell_type": "code",
      "source": [
        "x = \"564\"\n",
        "print (x)\n",
        "print (type(x))\n",
        "x = int (x)\n",
        "print (x)\n",
        "print (type(x))\n",
        "# it will change the datatype from string to integer"
      ],
      "metadata": {
        "colab": {
          "base_uri": "https://localhost:8080/"
        },
        "id": "GREyQDa5UdrU",
        "outputId": "7c46b70f-5abe-478b-f82e-50ea58899eac"
      },
      "execution_count": 10,
      "outputs": [
        {
          "output_type": "stream",
          "name": "stdout",
          "text": [
            "564\n",
            "<class 'str'>\n",
            "564\n",
            "<class 'int'>\n"
          ]
        }
      ]
    },
    {
      "cell_type": "code",
      "source": [
        "x = 456.32\n",
        "print (x)\n",
        "print (type(x))\n",
        "x = str (x)\n",
        "print (x)\n",
        "print (type(x))\n",
        "# it will change the datatype from float to string"
      ],
      "metadata": {
        "colab": {
          "base_uri": "https://localhost:8080/"
        },
        "id": "b2GDHXQ9U7Dt",
        "outputId": "ecb879c8-657b-456f-fec1-ba57006188fa"
      },
      "execution_count": 12,
      "outputs": [
        {
          "output_type": "stream",
          "name": "stdout",
          "text": [
            "456.32\n",
            "<class 'float'>\n",
            "456.32\n",
            "<class 'str'>\n"
          ]
        }
      ]
    },
    {
      "cell_type": "code",
      "source": [],
      "metadata": {
        "id": "_UW07RAeYgJr"
      },
      "execution_count": null,
      "outputs": []
    },
    {
      "cell_type": "code",
      "source": [
        "x =\"653.23\"\n",
        "print (x)\n",
        "print (type(x))\n",
        "x = float (x)\n",
        "print (x)\n",
        "print (type(x))\n",
        "# it will change the datatype from string to float"
      ],
      "metadata": {
        "colab": {
          "base_uri": "https://localhost:8080/"
        },
        "id": "Pap-eAL7VTj0",
        "outputId": "4fc933d8-1366-4716-c6d8-720750a6bc2e"
      },
      "execution_count": 13,
      "outputs": [
        {
          "output_type": "stream",
          "name": "stdout",
          "text": [
            "653.23\n",
            "<class 'str'>\n",
            "653.23\n",
            "<class 'float'>\n"
          ]
        }
      ]
    },
    {
      "cell_type": "code",
      "source": [
        "# x =\"653.23\"\n",
        "# print (x)\n",
        "# print (type(x))\n",
        "# x = int (x)\n",
        "# if we want to chamge the decimal number in form of string to integer we cannot directly do that we have to first change it from string\n",
        "#  to decimal and then to integer\n",
        "# print (x)\n",
        "# print (type(x))\n"
      ],
      "metadata": {
        "id": "jFB6hnm0V0HX"
      },
      "execution_count": 15,
      "outputs": []
    },
    {
      "cell_type": "code",
      "source": [
        "# x = \"typecasting\"\n",
        "# print (x)\n",
        "# print (type(x))\n",
        "# x = int (x)\n",
        "# print (x)\n",
        "# print (type(x))\n",
        "# it will also throw an error because character cannot be changed in to numbers and viceversa"
      ],
      "metadata": {
        "id": "wxkdJgJMWg8M"
      },
      "execution_count": 19,
      "outputs": []
    },
    {
      "cell_type": "code",
      "source": [
        "x = \"typecasting\"\n",
        "print (x)\n",
        "print (type(x))\n",
        "x = bool (x)\n",
        "print (x)\n",
        "print (type(x))\n",
        "# but we can change the character string to bool and vice versa"
      ],
      "metadata": {
        "colab": {
          "base_uri": "https://localhost:8080/"
        },
        "id": "rR2cOFjEXZmY",
        "outputId": "e9cbdb18-61a6-4998-b767-ffe97ccc5eae"
      },
      "execution_count": 20,
      "outputs": [
        {
          "output_type": "stream",
          "name": "stdout",
          "text": [
            "typecasting\n",
            "<class 'str'>\n",
            "True\n",
            "<class 'bool'>\n"
          ]
        }
      ]
    },
    {
      "cell_type": "code",
      "source": [
        "x = True\n",
        "print (x)\n",
        "print (type(x))\n",
        "x = str(x)\n",
        "print (x)\n",
        "print (type(x))"
      ],
      "metadata": {
        "colab": {
          "base_uri": "https://localhost:8080/"
        },
        "id": "Wq6wLyMwX3pU",
        "outputId": "b4de133b-6c1f-4f07-b41f-3d054cfd0387"
      },
      "execution_count": 22,
      "outputs": [
        {
          "output_type": "stream",
          "name": "stdout",
          "text": [
            "True\n",
            "<class 'bool'>\n",
            "True\n",
            "<class 'str'>\n"
          ]
        }
      ]
    },
    {
      "cell_type": "code",
      "source": [
        "x = 245\n",
        "print (x)\n",
        "print (type(x))\n",
        "x = bool (x)\n",
        "print (x)\n",
        "print (type(x))\n",
        "# it can also apply to numbers and change them to bool"
      ],
      "metadata": {
        "colab": {
          "base_uri": "https://localhost:8080/"
        },
        "id": "N6SEo_qJYHwF",
        "outputId": "1cf1f7e0-e3b1-411e-df1b-9c4dd47727d6"
      },
      "execution_count": 23,
      "outputs": [
        {
          "output_type": "stream",
          "name": "stdout",
          "text": [
            "245\n",
            "<class 'int'>\n",
            "True\n",
            "<class 'bool'>\n"
          ]
        }
      ]
    },
    {
      "cell_type": "code",
      "source": [
        "x = 456.32\n",
        "print (x)\n",
        "print (type(x))\n",
        "x = bool (x)\n",
        "print (x)\n",
        "print (type(x))\n"
      ],
      "metadata": {
        "colab": {
          "base_uri": "https://localhost:8080/"
        },
        "id": "KYTxzCQEYjqg",
        "outputId": "b28225a9-ecd5-46dd-aa5a-772ac0d36230"
      },
      "execution_count": 24,
      "outputs": [
        {
          "output_type": "stream",
          "name": "stdout",
          "text": [
            "456.32\n",
            "<class 'float'>\n",
            "True\n",
            "<class 'bool'>\n"
          ]
        }
      ]
    },
    {
      "cell_type": "code",
      "source": [
        "x =\"653.23\"\n",
        "print (x)\n",
        "print (type(x))\n",
        "x = bool(x)\n",
        "print (x)\n",
        "print (type(x))"
      ],
      "metadata": {
        "colab": {
          "base_uri": "https://localhost:8080/"
        },
        "id": "ZxBBbM7aYmRs",
        "outputId": "00dd4a45-a43a-4484-e84d-56823497a426"
      },
      "execution_count": 26,
      "outputs": [
        {
          "output_type": "stream",
          "name": "stdout",
          "text": [
            "653.23\n",
            "<class 'str'>\n",
            "True\n",
            "<class 'bool'>\n"
          ]
        }
      ]
    },
    {
      "cell_type": "code",
      "source": [
        "x = True\n",
        "print (x)\n",
        "print (type(x))\n",
        "x = int(x)\n",
        "print (x)\n",
        "print (type(x))\n",
        "# we can also change the type of bool to integer it will give its value 1 for true and 0 for false because they are boolean"
      ],
      "metadata": {
        "colab": {
          "base_uri": "https://localhost:8080/"
        },
        "id": "mnsn7kBvY3B5",
        "outputId": "6e7ae16d-0471-4503-d0b3-0e4e46d03983"
      },
      "execution_count": 27,
      "outputs": [
        {
          "output_type": "stream",
          "name": "stdout",
          "text": [
            "True\n",
            "<class 'bool'>\n",
            "1\n",
            "<class 'int'>\n"
          ]
        }
      ]
    },
    {
      "cell_type": "code",
      "source": [
        "\n",
        "x = True\n",
        "# x = False\n",
        "print (x)\n",
        "print (type(x))\n",
        "x = float(x)\n",
        "print (x)\n",
        "print (type(x))\n",
        "# same for float but it will add 0 after decimal 1.0 for true and false"
      ],
      "metadata": {
        "colab": {
          "base_uri": "https://localhost:8080/"
        },
        "id": "pK1m_aWiZSj1",
        "outputId": "50e41c35-2d89-4840-9184-a1a28d98970d"
      },
      "execution_count": 29,
      "outputs": [
        {
          "output_type": "stream",
          "name": "stdout",
          "text": [
            "False\n",
            "<class 'bool'>\n",
            "0.0\n",
            "<class 'float'>\n"
          ]
        }
      ]
    }
  ]
}