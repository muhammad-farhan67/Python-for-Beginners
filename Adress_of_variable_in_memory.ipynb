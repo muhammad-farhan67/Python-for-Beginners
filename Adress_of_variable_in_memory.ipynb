{
  "nbformat": 4,
  "nbformat_minor": 0,
  "metadata": {
    "colab": {
      "provenance": [],
      "authorship_tag": "ABX9TyP+g7744Efp6Ak9Wp6oh4v5",
      "include_colab_link": true
    },
    "kernelspec": {
      "name": "python3",
      "display_name": "Python 3"
    },
    "language_info": {
      "name": "python"
    }
  },
  "cells": [
    {
      "cell_type": "markdown",
      "metadata": {
        "id": "view-in-github",
        "colab_type": "text"
      },
      "source": [
        "<a href=\"https://colab.research.google.com/github/muhammad-farhan67/Python-for-Beginners/blob/main/Adress_of_variable_in_memory.ipynb\" target=\"_parent\"><img src=\"https://colab.research.google.com/assets/colab-badge.svg\" alt=\"Open In Colab\"/></a>"
      ]
    },
    {
      "cell_type": "code",
      "execution_count": null,
      "metadata": {
        "colab": {
          "base_uri": "https://localhost:8080/"
        },
        "id": "woozWoUz-qqP",
        "outputId": "2c8d2cd2-d753-4324-fb3b-60e6b555e0f9"
      },
      "outputs": [
        {
          "output_type": "stream",
          "name": "stdout",
          "text": [
            "136551690975472\n",
            "136551690974000\n"
          ]
        }
      ],
      "source": [
        "a = 1234324\n",
        "print(id(a))\n",
        "# id() function is used to find the adress of variable in memory\n",
        "b = 67889\n",
        "print(id(b))\n",
        "# here the adress of a variable and b is different we can assign same adress by assigning a=b\n"
      ]
    },
    {
      "cell_type": "code",
      "source": [
        "a=b\n",
        "print(id(a))\n",
        "print(id(b))\n",
        "# now you can check it is showing that they  both have same adress"
      ],
      "metadata": {
        "colab": {
          "base_uri": "https://localhost:8080/"
        },
        "id": "pTpxAhT5APLQ",
        "outputId": "f3a8daf8-d067-4ee2-f4de-c046bed19430"
      },
      "execution_count": null,
      "outputs": [
        {
          "output_type": "stream",
          "name": "stdout",
          "text": [
            "136551690974000\n",
            "136551690974000\n"
          ]
        }
      ]
    },
    {
      "cell_type": "code",
      "source": [
        "# same method can be applied to string and float"
      ],
      "metadata": {
        "id": "B3C4Q1dOAuIA"
      },
      "execution_count": null,
      "outputs": []
    },
    {
      "cell_type": "code",
      "source": [
        "# in case the value of variables same there adress can be same except there is float datatype\n",
        "a = 123\n",
        "b = 123\n",
        "print(id(a))\n",
        "print(id(b))"
      ],
      "metadata": {
        "colab": {
          "base_uri": "https://localhost:8080/"
        },
        "id": "T_SdpgdpA8b8",
        "outputId": "a306666f-870e-4835-ecac-88f1bc2d9262"
      },
      "execution_count": null,
      "outputs": [
        {
          "output_type": "stream",
          "name": "stdout",
          "text": [
            "136552970702896\n",
            "136552970702896\n"
          ]
        }
      ]
    },
    {
      "cell_type": "code",
      "source": [
        "# in case of string\n",
        "string1 = \"farhan\"\n",
        "string2 = \"farhan\"\n",
        "print(id(string1))\n",
        "print(id(string2))"
      ],
      "metadata": {
        "colab": {
          "base_uri": "https://localhost:8080/"
        },
        "id": "zlkEJZa6CWW6",
        "outputId": "f2acdb16-ceb2-424c-ab98-6882ea12952e"
      },
      "execution_count": null,
      "outputs": [
        {
          "output_type": "stream",
          "name": "stdout",
          "text": [
            "136551689499376\n",
            "136551689499376\n"
          ]
        }
      ]
    },
    {
      "cell_type": "code",
      "source": [
        "# but in case of float this not gonna happen because after decimal point numbers can vary and due to low accuracy compiler give them seperate memory\n",
        "a = 34.1\n",
        "b = 34.1\n",
        "print(id(a))\n",
        "print(id(b))"
      ],
      "metadata": {
        "colab": {
          "base_uri": "https://localhost:8080/"
        },
        "id": "2KeiWG5zDDL5",
        "outputId": "35e6a231-e5cc-4aac-898e-eed9f99dd3cf"
      },
      "execution_count": null,
      "outputs": [
        {
          "output_type": "stream",
          "name": "stdout",
          "text": [
            "136551689220080\n",
            "136551690976688\n"
          ]
        }
      ]
    }
  ]
}