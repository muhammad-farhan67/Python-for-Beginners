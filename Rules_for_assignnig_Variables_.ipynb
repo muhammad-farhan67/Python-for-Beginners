{
  "nbformat": 4,
  "nbformat_minor": 0,
  "metadata": {
    "colab": {
      "provenance": [],
      "authorship_tag": "ABX9TyOZjoPkNmKZFrfxSf7RSW5J",
      "include_colab_link": true
    },
    "kernelspec": {
      "name": "python3",
      "display_name": "Python 3"
    },
    "language_info": {
      "name": "python"
    }
  },
  "cells": [
    {
      "cell_type": "markdown",
      "metadata": {
        "id": "view-in-github",
        "colab_type": "text"
      },
      "source": [
        "<a href=\"https://colab.research.google.com/github/muhammad-farhan67/Python-for-Beginners/blob/main/Rules_for_assignnig_Variables_.ipynb\" target=\"_parent\"><img src=\"https://colab.research.google.com/assets/colab-badge.svg\" alt=\"Open In Colab\"/></a>"
      ]
    },
    {
      "cell_type": "markdown",
      "source": [
        "**Rules For Assigning name to variables :**"
      ],
      "metadata": {
        "id": "eO-09iOU3zV7"
      }
    },
    {
      "cell_type": "code",
      "source": [
        "# A variable can have a short name (like x and y) or a more descriptive name (age, carname, total_volume). Rules for Python variables:\n",
        "# A variable name must start with a letter or the underscore character\n",
        "# A variable name cannot start with a number\n",
        "# A variable name can only contain alpha-numeric characters and underscores (A-z, 0-9, and _ )\n",
        "# Variable names are case-sensitive (age, Age and AGE are three different variables)\n",
        "# A variable name cannot be any of the Python keywords."
      ],
      "metadata": {
        "id": "aH8eqcVq4BCt"
      },
      "execution_count": null,
      "outputs": []
    },
    {
      "cell_type": "code",
      "source": [
        "# Legal variable names:\n",
        "myvar = \"Farhan\"\n",
        "my_var = \"Farhan\"\n",
        "_my_var = \"Farhan\"\n",
        "myVar = \"Farhan\"\n",
        "MYVAR = \"Farhan\"\n",
        "myvar2 = \"Farhan\""
      ],
      "metadata": {
        "id": "AlhAYC6v6USJ"
      },
      "execution_count": null,
      "outputs": []
    },
    {
      "cell_type": "code",
      "source": [
        "# Illegal variable names:\n",
        "2myvar = \"John\"\n",
        "my-var = \"John\"\n",
        "my var = \"John\""
      ],
      "metadata": {
        "id": "LbeDc07867mF"
      },
      "execution_count": null,
      "outputs": []
    },
    {
      "cell_type": "markdown",
      "source": [
        "**Remember that variable names are case-sensitive**"
      ],
      "metadata": {
        "id": "ypdjdGy67XDM"
      }
    }
  ]
}