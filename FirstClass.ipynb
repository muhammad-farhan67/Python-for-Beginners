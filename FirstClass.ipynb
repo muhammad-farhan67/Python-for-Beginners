{
  "nbformat": 4,
  "nbformat_minor": 0,
  "metadata": {
    "colab": {
      "provenance": [],
      "authorship_tag": "ABX9TyPkcZCWK6jRSLxRlHEpXut/",
      "include_colab_link": true
    },
    "kernelspec": {
      "name": "python3",
      "display_name": "Python 3"
    },
    "language_info": {
      "name": "python"
    }
  },
  "cells": [
    {
      "cell_type": "markdown",
      "metadata": {
        "id": "view-in-github",
        "colab_type": "text"
      },
      "source": [
        "<a href=\"https://colab.research.google.com/github/muhammad-farhan67/Python-for-Beginners/blob/main/FirstClass.ipynb\" target=\"_parent\"><img src=\"https://colab.research.google.com/assets/colab-badge.svg\" alt=\"Open In Colab\"/></a>"
      ]
    },
    {
      "cell_type": "code",
      "execution_count": null,
      "metadata": {
        "colab": {
          "base_uri": "https://localhost:8080/",
          "height": 53
        },
        "id": "ebcskI0tItwS",
        "outputId": "4e8f037e-2b55-46df-8a02-aed28af72ba1"
      },
      "outputs": [
        {
          "output_type": "stream",
          "name": "stdout",
          "text": [
            "Hello,World\n"
          ]
        },
        {
          "output_type": "execute_result",
          "data": {
            "text/plain": [
              "' \\n this is a multiline comment\\nwhich is add by triple openig and closing quotes\\n '"
            ],
            "application/vnd.google.colaboratory.intrinsic+json": {
              "type": "string"
            }
          },
          "metadata": {},
          "execution_count": 13
        }
      ],
      "source": [
        "print(\"Hello,World\")\n",
        "# printing hello world print function in python used to show output\n",
        "# and this is a commentin python by adding hash on right side of line or entering ctrl+/ and it is single line comment and it is not interpret by compiler\n",
        "\"\"\"\n",
        " this is a multiline comment\n",
        "which is add by triple openig and closing quotes\n",
        " \"\"\"\n"
      ]
    },
    {
      "cell_type": "code",
      "source": [
        "n = \"python class\"\n",
        "print(type(n))\n",
        "# printing type of data by using type () inside print ()"
      ],
      "metadata": {
        "colab": {
          "base_uri": "https://localhost:8080/"
        },
        "id": "9sCXpLERLASm",
        "outputId": "fe03c81d-3893-407e-cb5d-9eaf1133d4cd"
      },
      "execution_count": null,
      "outputs": [
        {
          "output_type": "stream",
          "name": "stdout",
          "text": [
            "<class 'str'>\n"
          ]
        }
      ]
    },
    {
      "cell_type": "markdown",
      "source": [
        "Python for beginners"
      ],
      "metadata": {
        "id": "SVh-q3l2PABf"
      }
    },
    {
      "cell_type": "markdown",
      "source": [],
      "metadata": {
        "id": "98AmmlX4Otkp"
      }
    },
    {
      "cell_type": "code",
      "source": [
        "n = 12345\n",
        "print(type(n))\n",
        "\n",
        "# also checking the type of integer"
      ],
      "metadata": {
        "colab": {
          "base_uri": "https://localhost:8080/"
        },
        "id": "-9a29acVMJhg",
        "outputId": "951387dd-8585-4092-b5f1-f54bcd765f46"
      },
      "execution_count": null,
      "outputs": [
        {
          "output_type": "stream",
          "name": "stdout",
          "text": [
            "<class 'int'>\n"
          ]
        }
      ]
    },
    {
      "cell_type": "code",
      "source": [
        "n = 12.45\n",
        "print (type(n))\n",
        "# type for decimal numbers also there is double for large decimal number"
      ],
      "metadata": {
        "colab": {
          "base_uri": "https://localhost:8080/"
        },
        "id": "Xjo4L4LZN2HI",
        "outputId": "a9631e8e-e2ee-42af-aba4-a991f32bd1fb"
      },
      "execution_count": null,
      "outputs": [
        {
          "output_type": "stream",
          "name": "stdout",
          "text": [
            "<class 'float'>\n"
          ]
        }
      ]
    },
    {
      "cell_type": "code",
      "source": [
        "name = \"icodeguru\"\n",
        "motive = \"Learn , Share , Grow\"\n",
        "withWhome = \"Together\"\n",
        "# printing the variables and their type separately and together\n",
        "print(name)\n",
        "print(motive)\n",
        "print(withWhome)\n",
        "print(type(name))\n",
        "\n",
        "print(name,motive,withWhome)\n",
        "print(name + motive + withWhome)\n",
        "# Concatenation add + sign and comma between string\n",
        "# adding comma adds a space between the strings and plus sign only join them by not adding space between strings"
      ],
      "metadata": {
        "colab": {
          "base_uri": "https://localhost:8080/"
        },
        "id": "7QAiPUwROJhO",
        "outputId": "54c15d6a-209a-4f76-df64-b855bdd3d54a"
      },
      "execution_count": null,
      "outputs": [
        {
          "output_type": "stream",
          "name": "stdout",
          "text": [
            "icodeguru\n",
            "Learn , Share , Grow\n",
            "Together\n",
            "<class 'str'>\n",
            "icodeguru Learn , Share , Grow Together\n",
            "icodeguruLearn , Share , GrowTogether\n"
          ]
        }
      ]
    },
    {
      "cell_type": "code",
      "source": [
        "# those words which we cannot use as variables are called reserved words\n",
        "# keywords such as if , for ,then ,print , include etc\n",
        "# for = \"icodeguru\"\n",
        "# print(for)\n",
        "# print = \"icodeguru\"\n",
        "# print(print)\n",
        "# for further you can check on python.org"
      ],
      "metadata": {
        "id": "x4pWTAFwTCia"
      },
      "execution_count": null,
      "outputs": []
    },
    {
      "cell_type": "code",
      "source": [
        "Myname = \"farhan\"\n",
        "print(Myname)"
      ],
      "metadata": {
        "colab": {
          "base_uri": "https://localhost:8080/"
        },
        "id": "1XjEeoLTUiGP",
        "outputId": "9925b8d4-6656-40d0-c48d-f3d79bb40992"
      },
      "execution_count": null,
      "outputs": [
        {
          "output_type": "stream",
          "name": "stdout",
          "text": [
            "farhan\n"
          ]
        }
      ]
    }
  ]
}